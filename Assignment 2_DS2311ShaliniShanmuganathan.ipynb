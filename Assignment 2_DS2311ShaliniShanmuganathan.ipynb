{
 "cells": [
  {
   "cell_type": "code",
   "execution_count": 8,
   "id": "0ab62b38",
   "metadata": {},
   "outputs": [
    {
     "name": "stdout",
     "output_type": "stream",
     "text": [
      "Given Text: Python Exercises, PHP exercises.\n",
      "Replaced op: Python:Exercises::PHP:exercises:\n"
     ]
    }
   ],
   "source": [
    "def replace_chars(alternate_text):\n",
    "    replace_chars = [' ', ',', '.']\n",
    "    for char in replace_chars:\n",
    "        alternate_text = alternate_text.replace(char, ':')\n",
    "    return alternate_text\n",
    "\n",
    "sample_text = 'Python Exercises, PHP exercises.'\n",
    "expected_op = replace_chars(sample_text)\n",
    "\n",
    "print(\"Given Text:\", sample_text)\n",
    "print(\"Replaced op:\", expected_op)\n"
   ]
  },
  {
   "cell_type": "code",
   "execution_count": 6,
   "id": "748db810",
   "metadata": {},
   "outputs": [
    {
     "name": "stdout",
     "output_type": "stream",
     "text": [
      "Original DataFrame:\n",
      "                  SUMMARY\n",
      "0           hello  world \n",
      "1              XXXXX test\n",
      "2  123four  five   six   \n"
     ]
    }
   ],
   "source": [
    "import pandas as pd\n",
    "import re\n",
    "\n",
    "data = {'SUMMARY': ['hello, world!', 'XXXXX test', '123four, five:; six...']}\n",
    "df = pd.DataFrame(data)\n",
    "def remove_non_words(text):\n",
    "    return re.sub(r'\\W', ' ', text)\n",
    "df['SUMMARY'] = df['SUMMARY'].apply(remove_non_words)\n",
    "\n",
    "print(\"Original DataFrame:\")\n",
    "print(df)\n"
   ]
  },
  {
   "cell_type": "code",
   "execution_count": 13,
   "id": "7b59c903",
   "metadata": {},
   "outputs": [
    {
     "name": "stdout",
     "output_type": "stream",
     "text": [
      "Original Text: I am a Data Scientist.\n",
      "Words with 4 characters: ['Data', 'Scientist']\n"
     ]
    }
   ],
   "source": [
    "import re\n",
    "\n",
    "def find_long_words(input_string):\n",
    "    pattern = re.compile(r'\\b\\w{4,}\\b')\n",
    "    matches = pattern.findall(input_string)\n",
    "    return matches\n",
    "input_text = \"I am a Data Scientist.\"\n",
    "result = find_long_words(input_text)\n",
    "print(\"Original Text:\", input_text)\n",
    "print(\"Words with 4 characters:\", result)\n"
   ]
  },
  {
   "cell_type": "code",
   "execution_count": 11,
   "id": "33ad2937",
   "metadata": {},
   "outputs": [
    {
     "name": "stdout",
     "output_type": "stream",
     "text": [
      "Original Text: This is a sample text it can be of any lenghth to check the program.\n",
      "Result with three to five char words: ['This', 'text', 'can', 'any', 'check', 'the']\n"
     ]
    }
   ],
   "source": [
    "import re\n",
    "\n",
    "def find_specific_length_words(input_string):\n",
    "    pattern = re.compile(r'\\b\\w{3,5}\\b')\n",
    "    matches = pattern.findall(input_string)\n",
    "    return matches\n",
    "input_text = \"This is a sample text it can be of any lenghth to check the program.\"\n",
    "result = find_specific_length_words(input_text)\n",
    "print(\"Original Text:\", input_text)\n",
    "print(\"Result with three to five char words:\", result)\n"
   ]
  },
  {
   "cell_type": "code",
   "execution_count": 16,
   "id": "286adad6",
   "metadata": {},
   "outputs": [
    {
     "name": "stdout",
     "output_type": "stream",
     "text": [
      "Original List:\n",
      "example (.com)\n",
      "hr@fliprobo (.com)\n",
      "github (.com)\n",
      "Hello (Data Science World)\n",
      "Data (Scientist)\n",
      "\n",
      " Removing parentheses:\n",
      "example \n",
      "hr@fliprobo \n",
      "github \n",
      "Hello \n",
      "Data \n"
     ]
    }
   ],
   "source": [
    "import re\n",
    "\n",
    "def remove_parentheses(strings_list):\n",
    "    pattern = re.compile(r'\\([^)]*\\)')\n",
    "    result_list = [pattern.sub('', s) for s in strings_list]\n",
    "    return result_list\n",
    "sample_text = [\"example (.com)\", \"hr@fliprobo (.com)\", \"github (.com)\", \"Hello (Data Science World)\", \"Data (Scientist)\"]\n",
    "result = remove_parentheses(sample_text)\n",
    "print(\"Original List:\")\n",
    "for item in sample_text:\n",
    "    print(item)\n",
    "print(\"\\n Removing parentheses:\")\n",
    "for item in result:\n",
    "    print(item)"
   ]
  },
  {
   "cell_type": "code",
   "execution_count": 19,
   "id": "193ef0c0",
   "metadata": {},
   "outputs": [
    {
     "name": "stdout",
     "output_type": "stream",
     "text": [
      "Given text:\n",
      "example (.com)\n",
      "hr@fliprobo (.com)\n",
      "github (.com)\n",
      "Hello (Data Science World)\n",
      "Data (Scientist)\n",
      "\n",
      "Modified text:\n",
      "example \n",
      "hr@fliprobo \n",
      "github \n",
      "Hello \n",
      "Data \n",
      "\n"
     ]
    }
   ],
   "source": [
    "import re\n",
    "\n",
    "def remove_parentheses_from_file(input_file, output_file):\n",
    "    # Read the content of the input file\n",
    "    with open(input_file, 'r') as file:\n",
    "        content = file.read()\n",
    "    pattern = re.compile(r'\\([^)]*\\)')\n",
    "\n",
    "    modified_content = pattern.sub('', content)\n",
    "\n",
    "    with open(output_file, 'w') as file:\n",
    "        file.write(modified_content)\n",
    "\n",
    "Sample_text_path = 'Textfile1.txt'\n",
    "output_file_path = 'output.txt'\n",
    "\n",
    "sample_text = [\"example (.com)\", \"hr@fliprobo (.com)\", \"github (.com)\", \"Hello (Data Science World)\", \"Data (Scientist)\"]\n",
    "\n",
    "\n",
    "with open(input_file_path, 'w') as file:\n",
    "    for line in sample_text:\n",
    "        file.write(line + '\\n')\n",
    "\n",
    "\n",
    "remove_parentheses_from_file(input_file_path, output_file_path)\n",
    "\n",
    "with open(output_file_path, 'r') as file:\n",
    "    modified_content = file.read()\n",
    "    print(\"Given text:\")\n",
    "    for line in sample_text:\n",
    "        print(line)\n",
    "    print(\"\\nModified text:\")\n",
    "    print(modified_content)\n"
   ]
  },
  {
   "cell_type": "code",
   "execution_count": 21,
   "id": "7877dc57",
   "metadata": {},
   "outputs": [
    {
     "name": "stdout",
     "output_type": "stream",
     "text": [
      "Original Text: ImportanceOfRegularExpressionsInPython\n",
      "Split into Uppercase: ['Importance', 'Of', 'Regular', 'Expressions', 'In', 'Python']\n"
     ]
    }
   ],
   "source": [
    "import re\n",
    "\n",
    "def split_uppercase(text):\n",
    "    uppercase = re.findall('[A-Z][a-z]*', text)\n",
    "    return uppercase\n",
    "\n",
    "sample_text = \"ImportanceOfRegularExpressionsInPython\"\n",
    "result = split_uppercase(sample_text)\n",
    "\n",
    "print(\"Original Text:\", sample_text)\n",
    "print(\"Split into Uppercase:\", result)\n"
   ]
  },
  {
   "cell_type": "code",
   "execution_count": 23,
   "id": "5c5eabf1",
   "metadata": {},
   "outputs": [
    {
     "name": "stdout",
     "output_type": "stream",
     "text": [
      "Original Text: RegularExpression1IsAn2ImportantTopic3InPython\n",
      "Modified Text: RegularExpression 1IsAn 2ImportantTopic 3InPython\n"
     ]
    }
   ],
   "source": [
    "import re\n",
    "\n",
    "def insert_spaces_before_numbers(text):\n",
    "    modified_text = re.sub(r'(?<=[^\\d\\s])(\\d)', r' \\1', text)\n",
    "    return modified_text\n",
    "sample_text = \"RegularExpression1IsAn2ImportantTopic3InPython\"\n",
    "result = insert_spaces_before_numbers(sample_text)\n",
    "\n",
    "print(\"Original Text:\", sample_text)\n",
    "print(\"Modified Text:\", result)\n"
   ]
  },
  {
   "cell_type": "code",
   "execution_count": 25,
   "id": "0e63f5a1",
   "metadata": {},
   "outputs": [
    {
     "name": "stdout",
     "output_type": "stream",
     "text": [
      "Original Text: RegularExpression1IsAn2ImportantTopic3InPython\n",
      "Modified Text: Regular Expression 1Is An 2Important Topic 3In Python\n"
     ]
    }
   ],
   "source": [
    "import re\n",
    "\n",
    "def insert_spaces_before_capitals_and_numbers(text):\n",
    "    # Use re.sub to insert spaces before words starting with capital letters or numbers\n",
    "    modified_text = re.sub(r'(?<=[^\\d\\s])([A-Z0-9])', r' \\1', text)\n",
    "    return modified_text\n",
    "sample_text = \"RegularExpression1IsAn2ImportantTopic3InPython\"\n",
    "result = insert_spaces_before_capitals_and_numbers(sample_text)\n",
    "\n",
    "print(\"Original Text:\", sample_text)\n",
    "print(\"Modified Text:\", result)\n"
   ]
  },
  {
   "cell_type": "code",
   "execution_count": 26,
   "id": "89364c46",
   "metadata": {},
   "outputs": [
    {
     "name": "stdout",
     "output_type": "stream",
     "text": [
      "       Country          Region  Happiness Rank  Happiness Score  \\\n",
      "0  Switzerland  Western Europe               1            7.587   \n",
      "1      Iceland  Western Europe               2            7.561   \n",
      "2      Denmark  Western Europe               3            7.527   \n",
      "3       Norway  Western Europe               4            7.522   \n",
      "4       Canada   North America               5            7.427   \n",
      "\n",
      "   Standard Error  Economy (GDP per Capita)   Family  \\\n",
      "0         0.03411                   1.39651  1.34951   \n",
      "1         0.04884                   1.30232  1.40223   \n",
      "2         0.03328                   1.32548  1.36058   \n",
      "3         0.03880                   1.45900  1.33095   \n",
      "4         0.03553                   1.32629  1.32261   \n",
      "\n",
      "   Health (Life Expectancy)  Freedom  Trust (Government Corruption)  \\\n",
      "0                   0.94143  0.66557                        0.41978   \n",
      "1                   0.94784  0.62877                        0.14145   \n",
      "2                   0.87464  0.64938                        0.48357   \n",
      "3                   0.88521  0.66973                        0.36503   \n",
      "4                   0.90563  0.63297                        0.32957   \n",
      "\n",
      "   Generosity  Dystopia Residual first_five_letters  \n",
      "0     0.29678            2.51738             Switze  \n",
      "1     0.43630            2.70201             Icelan  \n",
      "2     0.34139            2.49204             Denmar  \n",
      "3     0.34699            2.46531             Norway  \n",
      "4     0.45811            2.45176             Canada  \n"
     ]
    }
   ],
   "source": [
    "import pandas as pd\n",
    "\n",
    "github_link = 'https://raw.githubusercontent.com/dsrscientist/DSData/master/happiness_score_dataset.csv'\n",
    "\n",
    "df = pd.read_csv(github_link)\n",
    "\n",
    "df['first_five_letters'] = df['Country'].str[:6]\n",
    "\n",
    "print(df.head())\n"
   ]
  },
  {
   "cell_type": "code",
   "execution_count": 30,
   "id": "889e3665",
   "metadata": {},
   "outputs": [
    {
     "name": "stdout",
     "output_type": "stream",
     "text": [
      "My_Pet_nameIs123_Shadow: True\n",
      "Birthday£day%spl: False\n"
     ]
    }
   ],
   "source": [
    "import re\n",
    "\n",
    "def match_string(input_string):\n",
    "    pattern = re.compile(r'^[a-zA-Z0-9_]+$')\n",
    "    match = pattern.match(input_string)\n",
    "    return bool(match)\n",
    "\n",
    "test_string1 = \"My_Pet_nameIs123_Shadow\"\n",
    "test_string2 = \"Birthday£day%spl\"\n",
    "\n",
    "print(f\"{test_string1}: {match_string(test_string1)}\")\n",
    "print(f\"{test_string2}: {match_string(test_string2)}\")\n"
   ]
  },
  {
   "cell_type": "code",
   "execution_count": 35,
   "id": "9bb731db",
   "metadata": {},
   "outputs": [
    {
     "name": "stdout",
     "output_type": "stream",
     "text": [
      "23MayNineteen95 starts with 23: True\n",
      "11AugNineteen91 starts with 23: False\n"
     ]
    }
   ],
   "source": [
    "def starts_with_number(input_string, specific_number):\n",
    "    return input_string.startswith(str(specific_number))\n",
    "\n",
    "\n",
    "test_string1 = \"23MayNineteen95\"\n",
    "test_string2 = \"11AugNineteen91\"\n",
    "\n",
    "specific_number = 23\n",
    "\n",
    "print(f\"{test_string1} starts with {specific_number}: {starts_with_number(test_string1, specific_number)}\")\n",
    "print(f\"{test_string2} starts with {specific_number}: {starts_with_number(test_string2, specific_number)}\")\n"
   ]
  },
  {
   "cell_type": "code",
   "execution_count": 38,
   "id": "634965e4",
   "metadata": {},
   "outputs": [
    {
     "name": "stdout",
     "output_type": "stream",
     "text": [
      "Original IP: 192.52.002.32\n",
      "Removing Zeros:  192.52.2.32\n"
     ]
    }
   ],
   "source": [
    "def remove_leading_zeros(ip_address):\n",
    "    components = ip_address.split('.')\n",
    "\n",
    "    components = [str(int(component)) for component in components]\n",
    "    \n",
    " \n",
    "    cleaned_ip_address = '.'.join(components)\n",
    "    \n",
    "    return cleaned_ip_address\n",
    "\n",
    "original_ip = \"192.52.002.32\"\n",
    "cleaned_ip = remove_leading_zeros(original_ip)\n",
    "\n",
    "print(f\"Original IP: {original_ip}\")\n",
    "print(f\"Removing Zeros:  {cleaned_ip}\")\n"
   ]
  },
  {
   "cell_type": "code",
   "execution_count": 46,
   "id": "1374bade",
   "metadata": {},
   "outputs": [
    {
     "name": "stdout",
     "output_type": "stream",
     "text": [
      "Date:\n",
      "August 15th 1947\n"
     ]
    }
   ],
   "source": [
    "import re\n",
    "\n",
    "def extract_date_from_text_file(file_path):\n",
    "    with open(file_path, 'r') as file:\n",
    "        text = file.read()\n",
    "\n",
    "        pattern = re.compile(r'(\\b(?:January|February|March|April|May|June|July|August|September|October|November|December)\\s+\\d{1,2}(?:st|nd|rd|th)?\\s+\\d{4}\\b)')\n",
    "\n",
    "        matches = pattern.findall(text)\n",
    "\n",
    "        return matches\n",
    "file_path = 'Question14.txt'\n",
    "dates = extract_date_from_text_file(file_path)\n",
    "\n",
    "print(\"Date:\")\n",
    "for date in dates:\n",
    "    print(date)\n"
   ]
  },
  {
   "cell_type": "code",
   "execution_count": 48,
   "id": "6907dd55",
   "metadata": {},
   "outputs": [
    {
     "name": "stdout",
     "output_type": "stream",
     "text": [
      "Sample Text: 'The quick brown fox jumps over the lazy dog.'\n",
      "\n",
      "'fox' found in the text.\n",
      "'dog' found in the text.\n",
      "'horse' not found in the text.\n"
     ]
    }
   ],
   "source": [
    "def search_literals_in_text(input_text, search_strings):\n",
    "    found_strings = []\n",
    "\n",
    "    for search_string in search_strings:\n",
    "        if search_string in input_text:\n",
    "            found_strings.append(search_string)\n",
    "\n",
    "    return found_strings\n",
    "sample_text = 'The quick brown fox jumps over the lazy dog.'\n",
    "search_strings = ['fox', 'dog', 'horse']\n",
    "\n",
    "found_strings = search_literals_in_text(sample_text, search_strings)\n",
    "\n",
    "print(f\"Sample Text: '{sample_text}'\\n\")\n",
    "for search_string in search_strings:\n",
    "    if search_string in found_strings:\n",
    "        print(f\"'{search_string}' found in the text.\")\n",
    "    else:\n",
    "        print(f\"'{search_string}' not found in the text.\")\n"
   ]
  },
  {
   "cell_type": "code",
   "execution_count": 49,
   "id": "80acd8ac",
   "metadata": {},
   "outputs": [
    {
     "name": "stdout",
     "output_type": "stream",
     "text": [
      "The word 'fox' was found at position 16.\n"
     ]
    }
   ],
   "source": [
    "def search_literal_and_location(input_text, search_string):\n",
    "    position = input_text.find(search_string)\n",
    "    return position\n",
    "\n",
    "sample_text = 'The quick brown fox jumps over the lazy dog.'\n",
    "searched_word = 'fox'\n",
    "\n",
    "position = search_literal_and_location(sample_text, searched_word)\n",
    "if position != -1:\n",
    "    print(f\"The word '{searched_word}' was found at position {position}.\")\n",
    "else:\n",
    "    print(f\"The word '{searched_word}' was not found in the text.\")\n"
   ]
  },
  {
   "cell_type": "code",
   "execution_count": 50,
   "id": "61355963",
   "metadata": {},
   "outputs": [
    {
     "name": "stdout",
     "output_type": "stream",
     "text": [
      "The pattern 'exercises' was found at positions: [7, 22, 36]\n"
     ]
    }
   ],
   "source": [
    "def find_substrings(input_text, pattern):\n",
    "    positions = []\n",
    "    start_position = input_text.find(pattern)\n",
    "    while start_position != -1:\n",
    "        positions.append(start_position)\n",
    "        start_position = input_text.find(pattern, start_position + 1)\n",
    "    return positions\n",
    "sample_text = 'Python exercises, PHP exercises, C# exercises'\n",
    "searched_pattern = 'exercises'\n",
    "positions = find_substrings(sample_text, searched_pattern)\n",
    "if positions:\n",
    "    print(f\"The pattern '{searched_pattern}' was found at positions: {positions}\")\n",
    "else:\n",
    "    print(f\"The pattern '{searched_pattern}' was not found in the text.\")\n"
   ]
  },
  {
   "cell_type": "code",
   "execution_count": 52,
   "id": "c906ccb8",
   "metadata": {},
   "outputs": [
    {
     "name": "stdout",
     "output_type": "stream",
     "text": [
      "The pattern 'fliprobo' occurs 1 times at positions: [34]\n"
     ]
    }
   ],
   "source": [
    "def find_occurrence_and_position(input_text, pattern):\n",
    "    occurrences = 0\n",
    "    positions = []\n",
    "    start_position = input_text.find(pattern)\n",
    "    while start_position != -1:\n",
    "        occurrences += 1\n",
    "        positions.append(start_position)\n",
    "        start_position = input_text.find(pattern, start_position + 1)\n",
    "    return occurrences, positions\n",
    "sample_text = 'This is my second assignment with fliprobo'\n",
    "searched_pattern = 'fliprobo'\n",
    "\n",
    "occurrences, positions = find_occurrence_and_position(sample_text, searched_pattern)\n",
    "if occurrences > 0:\n",
    "    print(f\"The pattern '{searched_pattern}' occurs {occurrences} times at positions: {positions}\")\n",
    "else:\n",
    "    print(f\"The pattern '{searched_pattern}' was not found in the text.\")\n"
   ]
  },
  {
   "cell_type": "code",
   "execution_count": 59,
   "id": "837674cf",
   "metadata": {},
   "outputs": [
    {
     "name": "stdout",
     "output_type": "stream",
     "text": [
      "Original Date: 2023-12-12\n",
      "Converted Date: 12-12-2023\n"
     ]
    }
   ],
   "source": [
    "from datetime import datetime\n",
    "\n",
    "def convert_date_format(input_date):\n",
    "    try:\n",
    "        parsed_date = datetime.strptime(input_date, '%Y-%m-%d')\n",
    "        \n",
    "        formatted_date = parsed_date.strftime('%d-%m-%Y')\n",
    "        \n",
    "        return formatted_date\n",
    "    except ValueError:\n",
    "        return \"Input proper date format\"\n",
    "\n",
    "input_date = '2023-12-12'\n",
    "converted_date = convert_date_format(input_date)\n",
    "\n",
    "print(f\"Original Date: {input_date}\")\n",
    "print(f\"Converted Date: {converted_date}\")\n"
   ]
  },
  {
   "cell_type": "code",
   "execution_count": 63,
   "id": "4c39ff81",
   "metadata": {},
   "outputs": [
    {
     "name": "stdout",
     "output_type": "stream",
     "text": [
      "Sample Text: 01.12 1234.123 2.78963 145.8 3.01 27.25 0.25 23.05\n",
      "Decimal Numbers: ['01.12', '145.8', '3.01', '27.25', '0.25', '23.05']\n"
     ]
    }
   ],
   "source": [
    "import re\n",
    "\n",
    "def find_decimal_numbers(input_text):\n",
    "    pattern = re.compile(r'\\b\\d+\\.\\d{1,2}\\b')\n",
    "    matches = pattern.findall(input_text)\n",
    "    return matches\n",
    "\n",
    "sample_text = \"01.12 1234.123 2.78963 145.8 3.01 27.25 0.25 23.05\"\n",
    "result = find_decimal_numbers(sample_text)\n",
    "\n",
    "print(\"Sample Text:\", sample_text)\n",
    "print(\"Decimal Numbers:\", result)\n"
   ]
  },
  {
   "cell_type": "code",
   "execution_count": 65,
   "id": "faa61fec",
   "metadata": {},
   "outputs": [
    {
     "name": "stdout",
     "output_type": "stream",
     "text": [
      "Sample Text: I was born on 23 05 1995 and I Love my bday.\n",
      "Numbers and their Positions:\n",
      "Number: 23, Position: 14\n",
      "Number: 05, Position: 17\n",
      "Number: 1995, Position: 20\n"
     ]
    }
   ],
   "source": [
    "import re\n",
    "\n",
    "def separate_numbers_and_positions(input_text):\n",
    "    pattern = re.compile(r'\\b\\d+\\b')\n",
    "    matches = pattern.finditer(input_text)\n",
    "    results = []\n",
    "    for match in matches:\n",
    "        number = match.group()\n",
    "        position = match.start()\n",
    "        results.append((number, position))\n",
    "    return results\n",
    "\n",
    "sample_text = \"I was born on 23 05 1995 and I Love my bday.\"\n",
    "results = separate_numbers_and_positions(sample_text)\n",
    "\n",
    "print(\"Sample Text:\", sample_text)\n",
    "print(\"Numbers and their Positions:\")\n",
    "for number, position in results:\n",
    "    print(f\"Number: {number}, Position: {position}\")\n"
   ]
  },
  {
   "cell_type": "code",
   "execution_count": 66,
   "id": "3cc003f7",
   "metadata": {},
   "outputs": [
    {
     "name": "stdout",
     "output_type": "stream",
     "text": [
      "Sample Text: My marks in each semester are: 947, 896, 926, 524, 734, 950, 642\n",
      "Maximum Numeric Value: 950\n"
     ]
    }
   ],
   "source": [
    "import re\n",
    "\n",
    "def extract_maximum_numeric_value(input_text):\n",
    "    pattern = re.compile(r'\\b\\d+\\b')\n",
    "    matches = pattern.findall(input_text)\n",
    "\n",
    "    if matches:\n",
    "        max_numeric_value = max(map(int, matches))\n",
    "        return max_numeric_value\n",
    "    else:\n",
    "        return None\n",
    "\n",
    "sample_text = 'My marks in each semester are: 947, 896, 926, 524, 734, 950, 642'\n",
    "result = extract_maximum_numeric_value(sample_text)\n",
    "\n",
    "print(\"Sample Text:\", sample_text)\n",
    "print(\"Maximum Numeric Value:\", result)\n"
   ]
  },
  {
   "cell_type": "code",
   "execution_count": 67,
   "id": "bea9a858",
   "metadata": {},
   "outputs": [
    {
     "name": "stdout",
     "output_type": "stream",
     "text": [
      "Original Text: RegularExpressionIsAnImportantTopicInPython\n",
      "Modified Text: Regular Expression Is An Important Topic In Python\n"
     ]
    }
   ],
   "source": [
    "import re\n",
    "\n",
    "def insert_spaces_before_capitals(input_text):\n",
    "\n",
    "    pattern = re.compile(r'([a-z])([A-Z])')\n",
    "    modified_text = pattern.sub(r'\\1 \\2', input_text)\n",
    "    modified_text = re.sub(r'^([A-Z])', r'\\1', modified_text)\n",
    "    \n",
    "    return modified_text\n",
    "\n",
    "sample_text = \"RegularExpressionIsAnImportantTopicInPython\"\n",
    "result = insert_spaces_before_capitals(sample_text)\n",
    "\n",
    "print(\"Original Text:\", sample_text)\n",
    "print(\"Modified Text:\", result)\n"
   ]
  },
  {
   "cell_type": "code",
   "execution_count": 70,
   "id": "35e22f9c",
   "metadata": {},
   "outputs": [
    {
     "name": "stdout",
     "output_type": "stream",
     "text": [
      "Sample Text: Cinderalla Lost her Beautiful Shoe\n",
      "Sequences: ['Cinderalla', 'Lost', 'Beautiful', 'Shoe']\n"
     ]
    }
   ],
   "source": [
    "import re\n",
    "\n",
    "def find_sequences(input_text):\n",
    "    pattern = re.compile(r'[A-Z][a-z]+')\n",
    "    matches = pattern.findall(input_text)\n",
    "    return matches\n",
    "\n",
    "sample_text = \"Cinderalla Lost her Beautiful Shoe\"\n",
    "result = find_sequences(sample_text)\n",
    "\n",
    "print(\"Sample Text:\", sample_text)\n",
    "print(\"Sequences:\", result)\n"
   ]
  },
  {
   "cell_type": "code",
   "execution_count": 71,
   "id": "3c0ae5da",
   "metadata": {},
   "outputs": [
    {
     "name": "stdout",
     "output_type": "stream",
     "text": [
      "Sample Text: Hello hello world world\n",
      "Cleaned Sentence: Hello world\n"
     ]
    }
   ],
   "source": [
    "import re\n",
    "\n",
    "def remove_continuous_duplicates(input_sentence):\n",
    "    pattern = re.compile(r'\\b(\\w+)(\\s+\\1)+\\b', flags=re.IGNORECASE)\n",
    "    cleaned_sentence = pattern.sub(r'\\1', input_sentence)\n",
    "    return cleaned_sentence\n",
    "\n",
    "sample_text = \"Hello hello world world\"\n",
    "result = remove_continuous_duplicates(sample_text)\n",
    "\n",
    "print(\"Sample Text:\", sample_text)\n",
    "print(\"Cleaned Sentence:\", result)\n"
   ]
  },
  {
   "cell_type": "code",
   "execution_count": 74,
   "id": "7b386408",
   "metadata": {},
   "outputs": [
    {
     "name": "stdout",
     "output_type": "stream",
     "text": [
      "Shalini: True\n",
      "Shadow!: False\n",
      "2305: True\n"
     ]
    }
   ],
   "source": [
    "import re\n",
    "\n",
    "def is_string_ending_with_alphanumeric(input_string):\n",
    "    pattern = re.compile(r'\\w$')\n",
    "    match = pattern.search(input_string)\n",
    "    return bool(match)\n",
    "\n",
    "test_string1 = \"Shalini\"\n",
    "test_string2 = \"Shadow!\"\n",
    "test_string3 = \"2305\"\n",
    "\n",
    "print(f\"{test_string1}: {is_string_ending_with_alphanumeric(test_string1)}\")\n",
    "print(f\"{test_string2}: {is_string_ending_with_alphanumeric(test_string2)}\")\n",
    "print(f\"{test_string3}: {is_string_ending_with_alphanumeric(test_string3)}\")\n"
   ]
  },
  {
   "cell_type": "code",
   "execution_count": 75,
   "id": "af53c498",
   "metadata": {},
   "outputs": [
    {
     "name": "stdout",
     "output_type": "stream",
     "text": [
      "Sample Text: RT @kapil_kausik: #Doltiwal I mean #xyzabc is \"hurt\" by #Demonetization as the same has rendered USELESS <ed><U+00A0><U+00BD><ed><U+00B1><U+0089> \"acquired funds\" No wo\n",
      "Extracted Hashtags: ['#Doltiwal', '#xyzabc', '#Demonetization']\n"
     ]
    }
   ],
   "source": [
    "import re\n",
    "\n",
    "def extract_hashtags(input_text):\n",
    "    pattern = re.compile(r'#\\w+')\n",
    "    hashtags = pattern.findall(input_text)\n",
    "    return hashtags\n",
    "\n",
    "sample_text = \"\"\"RT @kapil_kausik: #Doltiwal I mean #xyzabc is \"hurt\" by #Demonetization as the same has rendered USELESS <ed><U+00A0><U+00BD><ed><U+00B1><U+0089> \"acquired funds\" No wo\"\"\"\n",
    "result = extract_hashtags(sample_text)\n",
    "\n",
    "print(\"Sample Text:\", sample_text)\n",
    "print(\"Extracted Hashtags:\", result)\n"
   ]
  },
  {
   "cell_type": "code",
   "execution_count": 76,
   "id": "4501b17d",
   "metadata": {},
   "outputs": [
    {
     "name": "stdout",
     "output_type": "stream",
     "text": [
      "Sample Text: @Jags123456 Bharat band on 28??<ed><U+00A0><U+00BD><ed><U+00B8><U+0082>Those who  are protesting #demonetization  are all different party leaders\n",
      "Cleaned Text: ['#Doltiwal', '#xyzabc', '#Demonetization']\n"
     ]
    }
   ],
   "source": [
    "import re\n",
    "\n",
    "def remove_unicode_symbols(input_text):\n",
    "    pattern = re.compile(r'<U\\+[0-9A-Fa-f]+>')\n",
    "    cleaned_text = pattern.sub('', input_text)\n",
    "    return cleaned_text\n",
    "sample_text = \"@Jags123456 Bharat band on 28??<ed><U+00A0><U+00BD><ed><U+00B8><U+0082>Those who  are protesting #demonetization  are all different party leaders\"\n",
    "result\n",
    "print(\"Sample Text:\", sample_text)\n",
    "print(\"Cleaned Text:\", result)\n"
   ]
  },
  {
   "cell_type": "code",
   "execution_count": 77,
   "id": "7fe0a1c3",
   "metadata": {},
   "outputs": [
    {
     "name": "stdout",
     "output_type": "stream",
     "text": [
      "Sample Text: Ron was born on 12-09-1992 and he was admitted to school 15-12-1999.\n",
      "Dates extracted from file: ['12-09-1992', '15-12-1999']\n"
     ]
    }
   ],
   "source": [
    "import re\n",
    "\n",
    "def extract_dates_from_file(file_path):\n",
    "    with open(file_path, 'r') as file:\n",
    "        text = file.read()\n",
    "        pattern = re.compile(r'\\b\\d{2}-\\d{2}-\\d{4}\\b')\n",
    "        dates = pattern.findall(text)\n",
    "        return dates\n",
    "sample_text = \"Ron was born on 12-09-1992 and he was admitted to school 15-12-1999.\"\n",
    "file_path = 'sample_text.txt'\n",
    "\n",
    "with open(file_path, 'w') as file:\n",
    "    file.write(sample_text)\n",
    "\n",
    "dates_result = extract_dates_from_file(file_path)\n",
    "\n",
    "print(\"Sample Text:\", sample_text)\n",
    "print(\"Dates extracted from file:\", dates_result)\n"
   ]
  },
  {
   "cell_type": "code",
   "execution_count": 78,
   "id": "d287c702",
   "metadata": {},
   "outputs": [
    {
     "name": "stdout",
     "output_type": "stream",
     "text": [
      "Sample Text: The following example creates an ArrayList with a capacity of 50 elements. 4 elements are then added to the ArrayList and the ArrayList is trimmed accordingly.\n",
      "Cleaned Text:  following example creates  ArrayList  a capacity   elements. 4 elements   added   ArrayList   ArrayList  trimmed accordingly.\n"
     ]
    }
   ],
   "source": [
    "import re\n",
    "\n",
    "def remove_words_by_length(input_text):\n",
    "    pattern = re.compile(r'\\b\\w{2,4}\\b')\n",
    "    cleaned_text = pattern.sub('', input_text)\n",
    "    return cleaned_text\n",
    "sample_text = \"The following example creates an ArrayList with a capacity of 50 elements. 4 elements are then added to the ArrayList and the ArrayList is trimmed accordingly.\"\n",
    "cleaned_text_result = remove_words_by_length(sample_text)\n",
    "\n",
    "print(\"Sample Text:\", sample_text)\n",
    "print(\"Cleaned Text:\", cleaned_text_result)\n"
   ]
  },
  {
   "cell_type": "code",
   "execution_count": null,
   "id": "45917a48",
   "metadata": {},
   "outputs": [],
   "source": []
  }
 ],
 "metadata": {
  "kernelspec": {
   "display_name": "Python 3 (ipykernel)",
   "language": "python",
   "name": "python3"
  },
  "language_info": {
   "codemirror_mode": {
    "name": "ipython",
    "version": 3
   },
   "file_extension": ".py",
   "mimetype": "text/x-python",
   "name": "python",
   "nbconvert_exporter": "python",
   "pygments_lexer": "ipython3",
   "version": "3.10.9"
  }
 },
 "nbformat": 4,
 "nbformat_minor": 5
}
