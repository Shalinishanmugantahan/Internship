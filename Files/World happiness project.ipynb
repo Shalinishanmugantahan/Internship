{
 "cells": [
  {
   "cell_type": "markdown",
   "id": "1d847536",
   "metadata": {},
   "source": [
    "# World Happiness Project"
   ]
  },
  {
   "cell_type": "code",
   "execution_count": 9,
   "id": "2d493d6e",
   "metadata": {},
   "outputs": [
    {
     "name": "stdout",
     "output_type": "stream",
     "text": [
      "Mean Squared Error: 8.726695517975453e-08\n",
      "R-squared Score: 0.9999999384902809\n"
     ]
    }
   ],
   "source": [
    "import pandas as pd\n",
    "from sklearn.model_selection import train_test_split\n",
    "from sklearn.linear_model import LinearRegression\n",
    "from sklearn.metrics import mean_squared_error, r2_score\n",
    "\n",
    "happiness_data = pd.read_csv(\"happiness_score_dataset.csv\")\n",
    "happiness_data = pd.get_dummies(happiness_data, columns=['Region'], drop_first=True)\n",
    "\n",
    "X = happiness_data.drop(['Country', 'Happiness Score'], axis=1)\n",
    "y = happiness_data['Happiness Score']\n",
    "\n",
    "X_train, X_test, y_train, y_test = train_test_split(X, y, test_size=0.2, random_state=42)\n",
    "\n",
    "lr_model = LinearRegression()\n",
    "lr_model.fit(X_train, y_train)\n",
    "y_pred = lr_model.predict(X_test)\n",
    "meansqrerr = mean_squared_error(y_test, y_pred)\n",
    "r2 = r2_score(y_test, y_pred)\n",
    "\n",
    "print(\"Mean Squared Error:\", meansqrerr)\n",
    "print(\"R-squared Score:\", r2)\n"
   ]
  }
 ],
 "metadata": {
  "kernelspec": {
   "display_name": "Python 3 (ipykernel)",
   "language": "python",
   "name": "python3"
  },
  "language_info": {
   "codemirror_mode": {
    "name": "ipython",
    "version": 3
   },
   "file_extension": ".py",
   "mimetype": "text/x-python",
   "name": "python",
   "nbconvert_exporter": "python",
   "pygments_lexer": "ipython3",
   "version": "3.10.9"
  }
 },
 "nbformat": 4,
 "nbformat_minor": 5
}
